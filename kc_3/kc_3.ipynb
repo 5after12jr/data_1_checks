{
 "cells": [
  {
   "cell_type": "code",
   "execution_count": 1,
   "id": "aa295f92",
   "metadata": {},
   "outputs": [],
   "source": [
    "import pandas as pd"
   ]
  },
  {
   "cell_type": "code",
   "execution_count": 2,
   "id": "ef8adff0",
   "metadata": {},
   "outputs": [],
   "source": [
    "from matplotlib import pyplot as plt"
   ]
  },
  {
   "cell_type": "code",
   "execution_count": 3,
   "id": "baa2d0b7",
   "metadata": {},
   "outputs": [],
   "source": [
    "import seaborn as sns"
   ]
  },
  {
   "cell_type": "code",
   "execution_count": 4,
   "id": "a7e75fa5",
   "metadata": {},
   "outputs": [],
   "source": [
    "import matplotlib.dates as mdates"
   ]
  },
  {
   "cell_type": "code",
   "execution_count": 5,
   "id": "4cd4f4d9",
   "metadata": {},
   "outputs": [],
   "source": [
    "df = pd.read_csv('Louisville, Kentucky Weather 2020-07-12 to 2022-07-12.csv')"
   ]
  },
  {
   "cell_type": "code",
   "execution_count": 6,
   "id": "0921c4ec",
   "metadata": {},
   "outputs": [
    {
     "data": {
      "text/html": [
       "<div>\n",
       "<style scoped>\n",
       "    .dataframe tbody tr th:only-of-type {\n",
       "        vertical-align: middle;\n",
       "    }\n",
       "\n",
       "    .dataframe tbody tr th {\n",
       "        vertical-align: top;\n",
       "    }\n",
       "\n",
       "    .dataframe thead th {\n",
       "        text-align: right;\n",
       "    }\n",
       "</style>\n",
       "<table border=\"1\" class=\"dataframe\">\n",
       "  <thead>\n",
       "    <tr style=\"text-align: right;\">\n",
       "      <th></th>\n",
       "      <th>name</th>\n",
       "      <th>datetime</th>\n",
       "      <th>tempmax</th>\n",
       "      <th>tempmin</th>\n",
       "      <th>temp</th>\n",
       "      <th>feelslikemax</th>\n",
       "      <th>feelslikemin</th>\n",
       "      <th>feelslike</th>\n",
       "      <th>dew</th>\n",
       "      <th>humidity</th>\n",
       "      <th>...</th>\n",
       "      <th>solarenergy</th>\n",
       "      <th>uvindex</th>\n",
       "      <th>severerisk</th>\n",
       "      <th>sunrise</th>\n",
       "      <th>sunset</th>\n",
       "      <th>moonphase</th>\n",
       "      <th>conditions</th>\n",
       "      <th>description</th>\n",
       "      <th>icon</th>\n",
       "      <th>stations</th>\n",
       "    </tr>\n",
       "  </thead>\n",
       "  <tbody>\n",
       "    <tr>\n",
       "      <th>0</th>\n",
       "      <td>louisville, kentucky</td>\n",
       "      <td>2020-07-12</td>\n",
       "      <td>83.0</td>\n",
       "      <td>66.3</td>\n",
       "      <td>74.8</td>\n",
       "      <td>86.3</td>\n",
       "      <td>66.3</td>\n",
       "      <td>75.5</td>\n",
       "      <td>65.3</td>\n",
       "      <td>73.6</td>\n",
       "      <td>...</td>\n",
       "      <td>15.3</td>\n",
       "      <td>7</td>\n",
       "      <td>NaN</td>\n",
       "      <td>2020-07-12T06:30:12</td>\n",
       "      <td>2020-07-12T21:07:07</td>\n",
       "      <td>0.73</td>\n",
       "      <td>Rain, Partially cloudy</td>\n",
       "      <td>Partly cloudy throughout the day with a chance...</td>\n",
       "      <td>rain</td>\n",
       "      <td>KFTK,KLOU,E0797,AU953,KSDF,72423093821,7242401...</td>\n",
       "    </tr>\n",
       "    <tr>\n",
       "      <th>1</th>\n",
       "      <td>louisville, kentucky</td>\n",
       "      <td>2020-07-13</td>\n",
       "      <td>85.0</td>\n",
       "      <td>68.0</td>\n",
       "      <td>77.0</td>\n",
       "      <td>84.9</td>\n",
       "      <td>68.0</td>\n",
       "      <td>77.1</td>\n",
       "      <td>62.5</td>\n",
       "      <td>63.1</td>\n",
       "      <td>...</td>\n",
       "      <td>22.4</td>\n",
       "      <td>8</td>\n",
       "      <td>NaN</td>\n",
       "      <td>2020-07-13T06:30:53</td>\n",
       "      <td>2020-07-13T21:06:38</td>\n",
       "      <td>0.78</td>\n",
       "      <td>Clear</td>\n",
       "      <td>Clear conditions throughout the day.</td>\n",
       "      <td>clear-day</td>\n",
       "      <td>KFTK,KLOU,AU953,KSDF,72423093821,72424013807,7...</td>\n",
       "    </tr>\n",
       "    <tr>\n",
       "      <th>2</th>\n",
       "      <td>louisville, kentucky</td>\n",
       "      <td>2020-07-14</td>\n",
       "      <td>89.4</td>\n",
       "      <td>66.1</td>\n",
       "      <td>78.3</td>\n",
       "      <td>89.9</td>\n",
       "      <td>66.1</td>\n",
       "      <td>78.4</td>\n",
       "      <td>61.8</td>\n",
       "      <td>60.0</td>\n",
       "      <td>...</td>\n",
       "      <td>21.7</td>\n",
       "      <td>8</td>\n",
       "      <td>NaN</td>\n",
       "      <td>2020-07-14T06:31:35</td>\n",
       "      <td>2020-07-14T21:06:08</td>\n",
       "      <td>0.83</td>\n",
       "      <td>Clear</td>\n",
       "      <td>Clear conditions throughout the day.</td>\n",
       "      <td>clear-day</td>\n",
       "      <td>KFTK,KLOU,AU953,KSDF,72423093821,72424013807,7...</td>\n",
       "    </tr>\n",
       "    <tr>\n",
       "      <th>3</th>\n",
       "      <td>louisville, kentucky</td>\n",
       "      <td>2020-07-15</td>\n",
       "      <td>92.0</td>\n",
       "      <td>69.1</td>\n",
       "      <td>81.3</td>\n",
       "      <td>93.9</td>\n",
       "      <td>69.1</td>\n",
       "      <td>82.3</td>\n",
       "      <td>64.4</td>\n",
       "      <td>58.7</td>\n",
       "      <td>...</td>\n",
       "      <td>20.2</td>\n",
       "      <td>8</td>\n",
       "      <td>NaN</td>\n",
       "      <td>2020-07-15T06:32:18</td>\n",
       "      <td>2020-07-15T21:05:36</td>\n",
       "      <td>0.87</td>\n",
       "      <td>Partially cloudy</td>\n",
       "      <td>Becoming cloudy in the afternoon.</td>\n",
       "      <td>partly-cloudy-day</td>\n",
       "      <td>KFTK,KLOU,AU953,KSDF,72423093821,72424013807,7...</td>\n",
       "    </tr>\n",
       "    <tr>\n",
       "      <th>4</th>\n",
       "      <td>louisville, kentucky</td>\n",
       "      <td>2020-07-16</td>\n",
       "      <td>88.5</td>\n",
       "      <td>76.9</td>\n",
       "      <td>82.3</td>\n",
       "      <td>96.5</td>\n",
       "      <td>76.9</td>\n",
       "      <td>85.6</td>\n",
       "      <td>70.6</td>\n",
       "      <td>68.1</td>\n",
       "      <td>...</td>\n",
       "      <td>20.9</td>\n",
       "      <td>8</td>\n",
       "      <td>NaN</td>\n",
       "      <td>2020-07-16T06:33:02</td>\n",
       "      <td>2020-07-16T21:05:02</td>\n",
       "      <td>0.91</td>\n",
       "      <td>Rain, Partially cloudy</td>\n",
       "      <td>Partly cloudy throughout the day with early mo...</td>\n",
       "      <td>rain</td>\n",
       "      <td>KFTK,KLOU,AU953,KSDF,72423093821,72424013807,7...</td>\n",
       "    </tr>\n",
       "  </tbody>\n",
       "</table>\n",
       "<p>5 rows × 33 columns</p>\n",
       "</div>"
      ],
      "text/plain": [
       "                   name    datetime  tempmax  tempmin  temp  feelslikemax  \\\n",
       "0  louisville, kentucky  2020-07-12     83.0     66.3  74.8          86.3   \n",
       "1  louisville, kentucky  2020-07-13     85.0     68.0  77.0          84.9   \n",
       "2  louisville, kentucky  2020-07-14     89.4     66.1  78.3          89.9   \n",
       "3  louisville, kentucky  2020-07-15     92.0     69.1  81.3          93.9   \n",
       "4  louisville, kentucky  2020-07-16     88.5     76.9  82.3          96.5   \n",
       "\n",
       "   feelslikemin  feelslike   dew  humidity  ...  solarenergy  uvindex  \\\n",
       "0          66.3       75.5  65.3      73.6  ...         15.3        7   \n",
       "1          68.0       77.1  62.5      63.1  ...         22.4        8   \n",
       "2          66.1       78.4  61.8      60.0  ...         21.7        8   \n",
       "3          69.1       82.3  64.4      58.7  ...         20.2        8   \n",
       "4          76.9       85.6  70.6      68.1  ...         20.9        8   \n",
       "\n",
       "   severerisk              sunrise               sunset  moonphase  \\\n",
       "0         NaN  2020-07-12T06:30:12  2020-07-12T21:07:07       0.73   \n",
       "1         NaN  2020-07-13T06:30:53  2020-07-13T21:06:38       0.78   \n",
       "2         NaN  2020-07-14T06:31:35  2020-07-14T21:06:08       0.83   \n",
       "3         NaN  2020-07-15T06:32:18  2020-07-15T21:05:36       0.87   \n",
       "4         NaN  2020-07-16T06:33:02  2020-07-16T21:05:02       0.91   \n",
       "\n",
       "               conditions                                        description  \\\n",
       "0  Rain, Partially cloudy  Partly cloudy throughout the day with a chance...   \n",
       "1                   Clear               Clear conditions throughout the day.   \n",
       "2                   Clear               Clear conditions throughout the day.   \n",
       "3        Partially cloudy                  Becoming cloudy in the afternoon.   \n",
       "4  Rain, Partially cloudy  Partly cloudy throughout the day with early mo...   \n",
       "\n",
       "                icon                                           stations  \n",
       "0               rain  KFTK,KLOU,E0797,AU953,KSDF,72423093821,7242401...  \n",
       "1          clear-day  KFTK,KLOU,AU953,KSDF,72423093821,72424013807,7...  \n",
       "2          clear-day  KFTK,KLOU,AU953,KSDF,72423093821,72424013807,7...  \n",
       "3  partly-cloudy-day  KFTK,KLOU,AU953,KSDF,72423093821,72424013807,7...  \n",
       "4               rain  KFTK,KLOU,AU953,KSDF,72423093821,72424013807,7...  \n",
       "\n",
       "[5 rows x 33 columns]"
      ]
     },
     "execution_count": 6,
     "metadata": {},
     "output_type": "execute_result"
    }
   ],
   "source": [
    "df.head()"
   ]
  },
  {
   "cell_type": "code",
   "execution_count": 12,
   "id": "358f83af",
   "metadata": {},
   "outputs": [
    {
     "data": {
      "image/png": "[encoded data removed]",
      "text/plain": [
       "<Figure size 432x288 with 1 Axes>"
      ]
     },
     "metadata": {
      "needs_background": "light"
     },
     "output_type": "display_data"
    }
   ],
   "source": [
    "sns.lineplot(x=df.temp, y=df.tempmax);"
   ]
  },
  {
   "cell_type": "code",
   "execution_count": null,
   "id": "12e66ebc",
   "metadata": {},
   "outputs": [],
   "source": [
    "''' adds every value in mintemp to create a sum\n",
    "divides the sum by the number of values in mintemp\n",
    "This will provide the average of maxtemp.\n",
    "'''"
   ]
  },
  {
   "cell_type": "code",
   "execution_count": 8,
   "id": "a5de9b3f",
   "metadata": {},
   "outputs": [],
   "source": [
    "def avgmintemp():\n",
    "    print(sum(df.tempmin)/len(df.tempmin))"
   ]
  },
  {
   "cell_type": "code",
   "execution_count": 9,
   "id": "1b60734a",
   "metadata": {},
   "outputs": [
    {
     "name": "stdout",
     "output_type": "stream",
     "text": [
      "50.530916552667534\n"
     ]
    }
   ],
   "source": [
    "avgmintemp()"
   ]
  },
  {
   "cell_type": "code",
   "execution_count": null,
   "id": "acdd52d7",
   "metadata": {},
   "outputs": [],
   "source": [
    "''' adds every value in maxtemp to create a sum\n",
    "divides the sum by the number of values in maxtemp\n",
    "This will provide the average of maxtemp.\n",
    "'''"
   ]
  },
  {
   "cell_type": "code",
   "execution_count": 10,
   "id": "64c11cc1",
   "metadata": {},
   "outputs": [],
   "source": [
    "def avgmaxtemp():\n",
    "    print(sum(df.tempmax)/len(df.tempmax))"
   ]
  },
  {
   "cell_type": "code",
   "execution_count": 11,
   "id": "ad575029",
   "metadata": {},
   "outputs": [
    {
     "name": "stdout",
     "output_type": "stream",
     "text": [
      "68.12818057455532\n"
     ]
    }
   ],
   "source": [
    "avgmaxtemp()"
   ]
  },
  {
   "cell_type": "code",
   "execution_count": null,
   "id": "fd444d12",
   "metadata": {},
   "outputs": [],
   "source": []
  }
 ],
 "metadata": {
  "kernelspec": {
   "display_name": "Python 3 (ipykernel)",
   "language": "python",
   "name": "python3"
  },
  "language_info": {
   "codemirror_mode": {
    "name": "ipython",
    "version": 3
   },
   "file_extension": ".py",
   "mimetype": "text/x-python",
   "name": "python",
   "nbconvert_exporter": "python",
   "pygments_lexer": "ipython3",
   "version": "3.9.12"
  }
 },
 "nbformat": 4,
 "nbformat_minor": 5
}
