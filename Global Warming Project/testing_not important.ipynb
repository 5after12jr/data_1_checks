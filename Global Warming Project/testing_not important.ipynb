{
 "cells": [
  {
   "cell_type": "code",
   "execution_count": 1,
   "id": "ab89f885",
   "metadata": {},
   "outputs": [],
   "source": [
    "import pandas as pd"
   ]
  },
  {
   "cell_type": "code",
   "execution_count": 2,
   "id": "ddea7f44",
   "metadata": {},
   "outputs": [],
   "source": [
    "from matplotlib import pyplot as plt"
   ]
  },
  {
   "cell_type": "code",
   "execution_count": 3,
   "id": "25284461",
   "metadata": {},
   "outputs": [],
   "source": [
    "import seaborn as sns"
   ]
  },
  {
   "cell_type": "code",
   "execution_count": 4,
   "id": "55f7ab07",
   "metadata": {},
   "outputs": [],
   "source": [
    "df = pd.read_csv('Louisville, Kentucky Weather 2020-07-12 to 2022-07-12.csv')"
   ]
  },
  {
   "cell_type": "code",
   "execution_count": 5,
   "id": "70e002d5",
   "metadata": {},
   "outputs": [
    {
     "data": {
      "text/html": [
       "<div>\n",
       "<style scoped>\n",
       "    .dataframe tbody tr th:only-of-type {\n",
       "        vertical-align: middle;\n",
       "    }\n",
       "\n",
       "    .dataframe tbody tr th {\n",
       "        vertical-align: top;\n",
       "    }\n",
       "\n",
       "    .dataframe thead th {\n",
       "        text-align: right;\n",
       "    }\n",
       "</style>\n",
       "<table border=\"1\" class=\"dataframe\">\n",
       "  <thead>\n",
       "    <tr style=\"text-align: right;\">\n",
       "      <th></th>\n",
       "      <th>name</th>\n",
       "      <th>datetime</th>\n",
       "      <th>tempmax</th>\n",
       "      <th>tempmin</th>\n",
       "      <th>temp</th>\n",
       "      <th>feelslikemax</th>\n",
       "      <th>feelslikemin</th>\n",
       "      <th>feelslike</th>\n",
       "      <th>dew</th>\n",
       "      <th>humidity</th>\n",
       "      <th>...</th>\n",
       "      <th>solarenergy</th>\n",
       "      <th>uvindex</th>\n",
       "      <th>severerisk</th>\n",
       "      <th>sunrise</th>\n",
       "      <th>sunset</th>\n",
       "      <th>moonphase</th>\n",
       "      <th>conditions</th>\n",
       "      <th>description</th>\n",
       "      <th>icon</th>\n",
       "      <th>stations</th>\n",
       "    </tr>\n",
       "  </thead>\n",
       "  <tbody>\n",
       "    <tr>\n",
       "      <th>0</th>\n",
       "      <td>louisville, kentucky</td>\n",
       "      <td>2020-07-12</td>\n",
       "      <td>83.0</td>\n",
       "      <td>66.3</td>\n",
       "      <td>74.8</td>\n",
       "      <td>86.3</td>\n",
       "      <td>66.3</td>\n",
       "      <td>75.5</td>\n",
       "      <td>65.3</td>\n",
       "      <td>73.6</td>\n",
       "      <td>...</td>\n",
       "      <td>15.3</td>\n",
       "      <td>7</td>\n",
       "      <td>NaN</td>\n",
       "      <td>2020-07-12T06:30:12</td>\n",
       "      <td>2020-07-12T21:07:07</td>\n",
       "      <td>0.73</td>\n",
       "      <td>Rain, Partially cloudy</td>\n",
       "      <td>Partly cloudy throughout the day with a chance...</td>\n",
       "      <td>rain</td>\n",
       "      <td>KFTK,KLOU,E0797,AU953,KSDF,72423093821,7242401...</td>\n",
       "    </tr>\n",
       "    <tr>\n",
       "      <th>1</th>\n",
       "      <td>louisville, kentucky</td>\n",
       "      <td>2020-07-13</td>\n",
       "      <td>85.0</td>\n",
       "      <td>68.0</td>\n",
       "      <td>77.0</td>\n",
       "      <td>84.9</td>\n",
       "      <td>68.0</td>\n",
       "      <td>77.1</td>\n",
       "      <td>62.5</td>\n",
       "      <td>63.1</td>\n",
       "      <td>...</td>\n",
       "      <td>22.4</td>\n",
       "      <td>8</td>\n",
       "      <td>NaN</td>\n",
       "      <td>2020-07-13T06:30:53</td>\n",
       "      <td>2020-07-13T21:06:38</td>\n",
       "      <td>0.78</td>\n",
       "      <td>Clear</td>\n",
       "      <td>Clear conditions throughout the day.</td>\n",
       "      <td>clear-day</td>\n",
       "      <td>KFTK,KLOU,AU953,KSDF,72423093821,72424013807,7...</td>\n",
       "    </tr>\n",
       "    <tr>\n",
       "      <th>2</th>\n",
       "      <td>louisville, kentucky</td>\n",
       "      <td>2020-07-14</td>\n",
       "      <td>89.4</td>\n",
       "      <td>66.1</td>\n",
       "      <td>78.3</td>\n",
       "      <td>89.9</td>\n",
       "      <td>66.1</td>\n",
       "      <td>78.4</td>\n",
       "      <td>61.8</td>\n",
       "      <td>60.0</td>\n",
       "      <td>...</td>\n",
       "      <td>21.7</td>\n",
       "      <td>8</td>\n",
       "      <td>NaN</td>\n",
       "      <td>2020-07-14T06:31:35</td>\n",
       "      <td>2020-07-14T21:06:08</td>\n",
       "      <td>0.83</td>\n",
       "      <td>Clear</td>\n",
       "      <td>Clear conditions throughout the day.</td>\n",
       "      <td>clear-day</td>\n",
       "      <td>KFTK,KLOU,AU953,KSDF,72423093821,72424013807,7...</td>\n",
       "    </tr>\n",
       "    <tr>\n",
       "      <th>3</th>\n",
       "      <td>louisville, kentucky</td>\n",
       "      <td>2020-07-15</td>\n",
       "      <td>92.0</td>\n",
       "      <td>69.1</td>\n",
       "      <td>81.3</td>\n",
       "      <td>93.9</td>\n",
       "      <td>69.1</td>\n",
       "      <td>82.3</td>\n",
       "      <td>64.4</td>\n",
       "      <td>58.7</td>\n",
       "      <td>...</td>\n",
       "      <td>20.2</td>\n",
       "      <td>8</td>\n",
       "      <td>NaN</td>\n",
       "      <td>2020-07-15T06:32:18</td>\n",
       "      <td>2020-07-15T21:05:36</td>\n",
       "      <td>0.87</td>\n",
       "      <td>Partially cloudy</td>\n",
       "      <td>Becoming cloudy in the afternoon.</td>\n",
       "      <td>partly-cloudy-day</td>\n",
       "      <td>KFTK,KLOU,AU953,KSDF,72423093821,72424013807,7...</td>\n",
       "    </tr>\n",
       "    <tr>\n",
       "      <th>4</th>\n",
       "      <td>louisville, kentucky</td>\n",
       "      <td>2020-07-16</td>\n",
       "      <td>88.5</td>\n",
       "      <td>76.9</td>\n",
       "      <td>82.3</td>\n",
       "      <td>96.5</td>\n",
       "      <td>76.9</td>\n",
       "      <td>85.6</td>\n",
       "      <td>70.6</td>\n",
       "      <td>68.1</td>\n",
       "      <td>...</td>\n",
       "      <td>20.9</td>\n",
       "      <td>8</td>\n",
       "      <td>NaN</td>\n",
       "      <td>2020-07-16T06:33:02</td>\n",
       "      <td>2020-07-16T21:05:02</td>\n",
       "      <td>0.91</td>\n",
       "      <td>Rain, Partially cloudy</td>\n",
       "      <td>Partly cloudy throughout the day with early mo...</td>\n",
       "      <td>rain</td>\n",
       "      <td>KFTK,KLOU,AU953,KSDF,72423093821,72424013807,7...</td>\n",
       "    </tr>\n",
       "  </tbody>\n",
       "</table>\n",
       "<p>5 rows × 33 columns</p>\n",
       "</div>"
      ],
      "text/plain": [
       "                   name    datetime  tempmax  tempmin  temp  feelslikemax  \\\n",
       "0  louisville, kentucky  2020-07-12     83.0     66.3  74.8          86.3   \n",
       "1  louisville, kentucky  2020-07-13     85.0     68.0  77.0          84.9   \n",
       "2  louisville, kentucky  2020-07-14     89.4     66.1  78.3          89.9   \n",
       "3  louisville, kentucky  2020-07-15     92.0     69.1  81.3          93.9   \n",
       "4  louisville, kentucky  2020-07-16     88.5     76.9  82.3          96.5   \n",
       "\n",
       "   feelslikemin  feelslike   dew  humidity  ...  solarenergy  uvindex  \\\n",
       "0          66.3       75.5  65.3      73.6  ...         15.3        7   \n",
       "1          68.0       77.1  62.5      63.1  ...         22.4        8   \n",
       "2          66.1       78.4  61.8      60.0  ...         21.7        8   \n",
       "3          69.1       82.3  64.4      58.7  ...         20.2        8   \n",
       "4          76.9       85.6  70.6      68.1  ...         20.9        8   \n",
       "\n",
       "   severerisk              sunrise               sunset  moonphase  \\\n",
       "0         NaN  2020-07-12T06:30:12  2020-07-12T21:07:07       0.73   \n",
       "1         NaN  2020-07-13T06:30:53  2020-07-13T21:06:38       0.78   \n",
       "2         NaN  2020-07-14T06:31:35  2020-07-14T21:06:08       0.83   \n",
       "3         NaN  2020-07-15T06:32:18  2020-07-15T21:05:36       0.87   \n",
       "4         NaN  2020-07-16T06:33:02  2020-07-16T21:05:02       0.91   \n",
       "\n",
       "               conditions                                        description  \\\n",
       "0  Rain, Partially cloudy  Partly cloudy throughout the day with a chance...   \n",
       "1                   Clear               Clear conditions throughout the day.   \n",
       "2                   Clear               Clear conditions throughout the day.   \n",
       "3        Partially cloudy                  Becoming cloudy in the afternoon.   \n",
       "4  Rain, Partially cloudy  Partly cloudy throughout the day with early mo...   \n",
       "\n",
       "                icon                                           stations  \n",
       "0               rain  KFTK,KLOU,E0797,AU953,KSDF,72423093821,7242401...  \n",
       "1          clear-day  KFTK,KLOU,AU953,KSDF,72423093821,72424013807,7...  \n",
       "2          clear-day  KFTK,KLOU,AU953,KSDF,72423093821,72424013807,7...  \n",
       "3  partly-cloudy-day  KFTK,KLOU,AU953,KSDF,72423093821,72424013807,7...  \n",
       "4               rain  KFTK,KLOU,AU953,KSDF,72423093821,72424013807,7...  \n",
       "\n",
       "[5 rows x 33 columns]"
      ]
     },
     "execution_count": 5,
     "metadata": {},
     "output_type": "execute_result"
    }
   ],
   "source": [
    "df.head()"
   ]
  },
  {
   "cell_type": "code",
   "execution_count": 6,
   "id": "ec6fd616",
   "metadata": {},
   "outputs": [],
   "source": [
    "def test():\n",
    "    print(\"testing 1, 2, 3\")"
   ]
  },
  {
   "cell_type": "code",
   "execution_count": 7,
   "id": "40c74621",
   "metadata": {},
   "outputs": [
    {
     "name": "stdout",
     "output_type": "stream",
     "text": [
      "testing 1, 2, 3\n"
     ]
    }
   ],
   "source": [
    "test()"
   ]
  },
  {
   "cell_type": "code",
   "execution_count": 17,
   "id": "5c8f18fe",
   "metadata": {},
   "outputs": [
    {
     "ename": "TypeError",
     "evalue": "'Series' object is not callable",
     "output_type": "error",
     "traceback": [
      "\u001b[1;31m---------------------------------------------------------------------------\u001b[0m",
      "\u001b[1;31mTypeError\u001b[0m                                 Traceback (most recent call last)",
      "Input \u001b[1;32mIn [17]\u001b[0m, in \u001b[0;36m<cell line: 1>\u001b[1;34m()\u001b[0m\n\u001b[1;32m----> 1\u001b[0m years\u001b[38;5;241m=\u001b[39m [\u001b[43mdf\u001b[49m\u001b[38;5;241;43m.\u001b[39;49m\u001b[43mdatetime\u001b[49m\u001b[43m(\u001b[49m\u001b[38;5;241;43m2020\u001b[39;49m\u001b[38;5;241;43m-\u001b[39;49m\u001b[38;5;241;43m7\u001b[39;49m\u001b[38;5;241;43m-\u001b[39;49m\u001b[38;5;241;43m12\u001b[39;49m\u001b[43m)\u001b[49m,\n\u001b[0;32m      2\u001b[0m        df\u001b[38;5;241m.\u001b[39mdateime(\u001b[38;5;241m2021\u001b[39m\u001b[38;5;241m-\u001b[39m\u001b[38;5;241m7\u001b[39m\u001b[38;5;241m-\u001b[39m\u001b[38;5;241m12\u001b[39m),\n\u001b[0;32m      3\u001b[0m        df\u001b[38;5;241m.\u001b[39mdatetime(\u001b[38;5;241m2022\u001b[39m\u001b[38;5;241m-\u001b[39m\u001b[38;5;241m7\u001b[39m\u001b[38;5;241m-\u001b[39m\u001b[38;5;241m12\u001b[39m)]\n",
      "\u001b[1;31mTypeError\u001b[0m: 'Series' object is not callable"
     ]
    }
   ],
   "source": [
    "years= [df.datetime(2020-7-12),\n",
    "       df.dateime(2021-7-12),\n",
    "       df.datetime(2022-7-12)]"
   ]
  },
  {
   "cell_type": "code",
   "execution_count": 13,
   "id": "23a310a6",
   "metadata": {},
   "outputs": [
    {
     "ename": "NameError",
     "evalue": "name 'years' is not defined",
     "output_type": "error",
     "traceback": [
      "\u001b[1;31m---------------------------------------------------------------------------\u001b[0m",
      "\u001b[1;31mNameError\u001b[0m                                 Traceback (most recent call last)",
      "Input \u001b[1;32mIn [13]\u001b[0m, in \u001b[0;36m<cell line: 2>\u001b[1;34m()\u001b[0m\n\u001b[0;32m      1\u001b[0m sns\u001b[38;5;241m.\u001b[39mbarplot(x\u001b[38;5;241m=\u001b[39m\u001b[38;5;124m'\u001b[39m\u001b[38;5;124mdatetime\u001b[39m\u001b[38;5;124m'\u001b[39m, y\u001b[38;5;241m=\u001b[39m\u001b[38;5;124m'\u001b[39m\u001b[38;5;124mtempmax\u001b[39m\u001b[38;5;124m'\u001b[39m, data\u001b[38;5;241m=\u001b[39mdf);\n\u001b[1;32m----> 2\u001b[0m plt\u001b[38;5;241m.\u001b[39mxticks(\u001b[43myears\u001b[49m)\n",
      "\u001b[1;31mNameError\u001b[0m: name 'years' is not defined"
     ]
    },
    {
     "data": {
      "image/png": "[encoded data removed]",
      "text/plain": [
       "<Figure size 432x288 with 1 Axes>"
      ]
     },
     "metadata": {
      "needs_background": "light"
     },
     "output_type": "display_data"
    }
   ],
   "source": [
    "sns.barplot(x='datetime', y='tempmax', data=df);\n",
    "plt.xticks(years)"
   ]
  },
  {
   "cell_type": "code",
   "execution_count": 19,
   "id": "a2c1fe0a",
   "metadata": {},
   "outputs": [
    {
     "data": {
      "text/plain": [
       "<AxesSubplot:xlabel='datetime', ylabel='tempmax'>"
      ]
     },
     "execution_count": 19,
     "metadata": {},
     "output_type": "execute_result"
    },
    {
     "data": {
      "image/png": "[encoded data removed]",
      "text/plain": [
       "<Figure size 432x288 with 1 Axes>"
      ]
     },
     "metadata": {
      "needs_background": "light"
     },
     "output_type": "display_data"
    }
   ],
   "source": [
    "sns.scatterplot(x=df['datetime'],\n",
    "                y=df['tempmax'])"
   ]
  },
  {
   "cell_type": "code",
   "execution_count": null,
   "id": "e545d0b1",
   "metadata": {},
   "outputs": [],
   "source": [
    "sns.lineplot"
   ]
  }
 ],
 "metadata": {
  "kernelspec": {
   "display_name": "Python 3 (ipykernel)",
   "language": "python",
   "name": "python3"
  },
  "language_info": {
   "codemirror_mode": {
    "name": "ipython",
    "version": 3
   },
   "file_extension": ".py",
   "mimetype": "text/x-python",
   "name": "python",
   "nbconvert_exporter": "python",
   "pygments_lexer": "ipython3",
   "version": "3.9.12"
  }
 },
 "nbformat": 4,
 "nbformat_minor": 5
}
