{
 "cells": [
  {
   "cell_type": "code",
   "execution_count": 1,
   "id": "a075ecfd",
   "metadata": {},
   "outputs": [],
   "source": [
    "import pandas as pd"
   ]
  },
  {
   "cell_type": "code",
   "execution_count": 2,
   "id": "4c343791",
   "metadata": {},
   "outputs": [],
   "source": [
    "from matplotlib import pyplot as plt"
   ]
  },
  {
   "cell_type": "code",
   "execution_count": 3,
   "id": "06f03044",
   "metadata": {},
   "outputs": [],
   "source": [
    "import seaborn as sns"
   ]
  },
  {
   "cell_type": "code",
   "execution_count": 4,
   "id": "089aa0ab",
   "metadata": {},
   "outputs": [],
   "source": [
    "import matplotlib.dates as mdates"
   ]
  },
  {
   "cell_type": "code",
   "execution_count": 5,
   "id": "6278a829",
   "metadata": {},
   "outputs": [],
   "source": [
    "df = pd.read_csv('Louisville, Kentucky Weather 2020-07-12 to 2022-07-12.csv')"
   ]
  },
  {
   "cell_type": "code",
   "execution_count": 6,
   "id": "1cd83384",
   "metadata": {
    "scrolled": true
   },
   "outputs": [
    {
     "data": {
      "text/html": [
       "<div>\n",
       "<style scoped>\n",
       "    .dataframe tbody tr th:only-of-type {\n",
       "        vertical-align: middle;\n",
       "    }\n",
       "\n",
       "    .dataframe tbody tr th {\n",
       "        vertical-align: top;\n",
       "    }\n",
       "\n",
       "    .dataframe thead th {\n",
       "        text-align: right;\n",
       "    }\n",
       "</style>\n",
       "<table border=\"1\" class=\"dataframe\">\n",
       "  <thead>\n",
       "    <tr style=\"text-align: right;\">\n",
       "      <th></th>\n",
       "      <th>name</th>\n",
       "      <th>datetime</th>\n",
       "      <th>tempmax</th>\n",
       "      <th>tempmin</th>\n",
       "      <th>temp</th>\n",
       "      <th>feelslikemax</th>\n",
       "      <th>feelslikemin</th>\n",
       "      <th>feelslike</th>\n",
       "      <th>dew</th>\n",
       "      <th>humidity</th>\n",
       "      <th>...</th>\n",
       "      <th>solarenergy</th>\n",
       "      <th>uvindex</th>\n",
       "      <th>severerisk</th>\n",
       "      <th>sunrise</th>\n",
       "      <th>sunset</th>\n",
       "      <th>moonphase</th>\n",
       "      <th>conditions</th>\n",
       "      <th>description</th>\n",
       "      <th>icon</th>\n",
       "      <th>stations</th>\n",
       "    </tr>\n",
       "  </thead>\n",
       "  <tbody>\n",
       "    <tr>\n",
       "      <th>0</th>\n",
       "      <td>louisville, kentucky</td>\n",
       "      <td>2020-07-12</td>\n",
       "      <td>83.0</td>\n",
       "      <td>66.3</td>\n",
       "      <td>74.8</td>\n",
       "      <td>86.3</td>\n",
       "      <td>66.3</td>\n",
       "      <td>75.5</td>\n",
       "      <td>65.3</td>\n",
       "      <td>73.6</td>\n",
       "      <td>...</td>\n",
       "      <td>15.3</td>\n",
       "      <td>7</td>\n",
       "      <td>NaN</td>\n",
       "      <td>2020-07-12T06:30:12</td>\n",
       "      <td>2020-07-12T21:07:07</td>\n",
       "      <td>0.73</td>\n",
       "      <td>Rain, Partially cloudy</td>\n",
       "      <td>Partly cloudy throughout the day with a chance...</td>\n",
       "      <td>rain</td>\n",
       "      <td>KFTK,KLOU,E0797,AU953,KSDF,72423093821,7242401...</td>\n",
       "    </tr>\n",
       "    <tr>\n",
       "      <th>1</th>\n",
       "      <td>louisville, kentucky</td>\n",
       "      <td>2020-07-13</td>\n",
       "      <td>85.0</td>\n",
       "      <td>68.0</td>\n",
       "      <td>77.0</td>\n",
       "      <td>84.9</td>\n",
       "      <td>68.0</td>\n",
       "      <td>77.1</td>\n",
       "      <td>62.5</td>\n",
       "      <td>63.1</td>\n",
       "      <td>...</td>\n",
       "      <td>22.4</td>\n",
       "      <td>8</td>\n",
       "      <td>NaN</td>\n",
       "      <td>2020-07-13T06:30:53</td>\n",
       "      <td>2020-07-13T21:06:38</td>\n",
       "      <td>0.78</td>\n",
       "      <td>Clear</td>\n",
       "      <td>Clear conditions throughout the day.</td>\n",
       "      <td>clear-day</td>\n",
       "      <td>KFTK,KLOU,AU953,KSDF,72423093821,72424013807,7...</td>\n",
       "    </tr>\n",
       "    <tr>\n",
       "      <th>2</th>\n",
       "      <td>louisville, kentucky</td>\n",
       "      <td>2020-07-14</td>\n",
       "      <td>89.4</td>\n",
       "      <td>66.1</td>\n",
       "      <td>78.3</td>\n",
       "      <td>89.9</td>\n",
       "      <td>66.1</td>\n",
       "      <td>78.4</td>\n",
       "      <td>61.8</td>\n",
       "      <td>60.0</td>\n",
       "      <td>...</td>\n",
       "      <td>21.7</td>\n",
       "      <td>8</td>\n",
       "      <td>NaN</td>\n",
       "      <td>2020-07-14T06:31:35</td>\n",
       "      <td>2020-07-14T21:06:08</td>\n",
       "      <td>0.83</td>\n",
       "      <td>Clear</td>\n",
       "      <td>Clear conditions throughout the day.</td>\n",
       "      <td>clear-day</td>\n",
       "      <td>KFTK,KLOU,AU953,KSDF,72423093821,72424013807,7...</td>\n",
       "    </tr>\n",
       "    <tr>\n",
       "      <th>3</th>\n",
       "      <td>louisville, kentucky</td>\n",
       "      <td>2020-07-15</td>\n",
       "      <td>92.0</td>\n",
       "      <td>69.1</td>\n",
       "      <td>81.3</td>\n",
       "      <td>93.9</td>\n",
       "      <td>69.1</td>\n",
       "      <td>82.3</td>\n",
       "      <td>64.4</td>\n",
       "      <td>58.7</td>\n",
       "      <td>...</td>\n",
       "      <td>20.2</td>\n",
       "      <td>8</td>\n",
       "      <td>NaN</td>\n",
       "      <td>2020-07-15T06:32:18</td>\n",
       "      <td>2020-07-15T21:05:36</td>\n",
       "      <td>0.87</td>\n",
       "      <td>Partially cloudy</td>\n",
       "      <td>Becoming cloudy in the afternoon.</td>\n",
       "      <td>partly-cloudy-day</td>\n",
       "      <td>KFTK,KLOU,AU953,KSDF,72423093821,72424013807,7...</td>\n",
       "    </tr>\n",
       "    <tr>\n",
       "      <th>4</th>\n",
       "      <td>louisville, kentucky</td>\n",
       "      <td>2020-07-16</td>\n",
       "      <td>88.5</td>\n",
       "      <td>76.9</td>\n",
       "      <td>82.3</td>\n",
       "      <td>96.5</td>\n",
       "      <td>76.9</td>\n",
       "      <td>85.6</td>\n",
       "      <td>70.6</td>\n",
       "      <td>68.1</td>\n",
       "      <td>...</td>\n",
       "      <td>20.9</td>\n",
       "      <td>8</td>\n",
       "      <td>NaN</td>\n",
       "      <td>2020-07-16T06:33:02</td>\n",
       "      <td>2020-07-16T21:05:02</td>\n",
       "      <td>0.91</td>\n",
       "      <td>Rain, Partially cloudy</td>\n",
       "      <td>Partly cloudy throughout the day with early mo...</td>\n",
       "      <td>rain</td>\n",
       "      <td>KFTK,KLOU,AU953,KSDF,72423093821,72424013807,7...</td>\n",
       "    </tr>\n",
       "  </tbody>\n",
       "</table>\n",
       "<p>5 rows × 33 columns</p>\n",
       "</div>"
      ],
      "text/plain": [
       "                   name    datetime  tempmax  tempmin  temp  feelslikemax  \\\n",
       "0  louisville, kentucky  2020-07-12     83.0     66.3  74.8          86.3   \n",
       "1  louisville, kentucky  2020-07-13     85.0     68.0  77.0          84.9   \n",
       "2  louisville, kentucky  2020-07-14     89.4     66.1  78.3          89.9   \n",
       "3  louisville, kentucky  2020-07-15     92.0     69.1  81.3          93.9   \n",
       "4  louisville, kentucky  2020-07-16     88.5     76.9  82.3          96.5   \n",
       "\n",
       "   feelslikemin  feelslike   dew  humidity  ...  solarenergy  uvindex  \\\n",
       "0          66.3       75.5  65.3      73.6  ...         15.3        7   \n",
       "1          68.0       77.1  62.5      63.1  ...         22.4        8   \n",
       "2          66.1       78.4  61.8      60.0  ...         21.7        8   \n",
       "3          69.1       82.3  64.4      58.7  ...         20.2        8   \n",
       "4          76.9       85.6  70.6      68.1  ...         20.9        8   \n",
       "\n",
       "   severerisk              sunrise               sunset  moonphase  \\\n",
       "0         NaN  2020-07-12T06:30:12  2020-07-12T21:07:07       0.73   \n",
       "1         NaN  2020-07-13T06:30:53  2020-07-13T21:06:38       0.78   \n",
       "2         NaN  2020-07-14T06:31:35  2020-07-14T21:06:08       0.83   \n",
       "3         NaN  2020-07-15T06:32:18  2020-07-15T21:05:36       0.87   \n",
       "4         NaN  2020-07-16T06:33:02  2020-07-16T21:05:02       0.91   \n",
       "\n",
       "               conditions                                        description  \\\n",
       "0  Rain, Partially cloudy  Partly cloudy throughout the day with a chance...   \n",
       "1                   Clear               Clear conditions throughout the day.   \n",
       "2                   Clear               Clear conditions throughout the day.   \n",
       "3        Partially cloudy                  Becoming cloudy in the afternoon.   \n",
       "4  Rain, Partially cloudy  Partly cloudy throughout the day with early mo...   \n",
       "\n",
       "                icon                                           stations  \n",
       "0               rain  KFTK,KLOU,E0797,AU953,KSDF,72423093821,7242401...  \n",
       "1          clear-day  KFTK,KLOU,AU953,KSDF,72423093821,72424013807,7...  \n",
       "2          clear-day  KFTK,KLOU,AU953,KSDF,72423093821,72424013807,7...  \n",
       "3  partly-cloudy-day  KFTK,KLOU,AU953,KSDF,72423093821,72424013807,7...  \n",
       "4               rain  KFTK,KLOU,AU953,KSDF,72423093821,72424013807,7...  \n",
       "\n",
       "[5 rows x 33 columns]"
      ]
     },
     "execution_count": 6,
     "metadata": {},
     "output_type": "execute_result"
    }
   ],
   "source": [
    "df.head()"
   ]
  },
  {
   "cell_type": "code",
   "execution_count": 32,
   "id": "d651917a",
   "metadata": {},
   "outputs": [
    {
     "ename": "ValueError",
     "evalue": "Length mismatch: Expected axis has 35 elements, new values have 1 elements",
     "output_type": "error",
     "traceback": [
      "\u001b[1;31m---------------------------------------------------------------------------\u001b[0m",
      "\u001b[1;31mValueError\u001b[0m                                Traceback (most recent call last)",
      "Input \u001b[1;32mIn [32]\u001b[0m, in \u001b[0;36m<cell line: 1>\u001b[1;34m()\u001b[0m\n\u001b[1;32m----> 1\u001b[0m df\u001b[38;5;241m.\u001b[39mcolumns \u001b[38;5;241m=\u001b[39m [\u001b[38;5;124m'\u001b[39m\u001b[38;5;124mname\u001b[39m\u001b[38;5;124m'\u001b[39m]\n",
      "File \u001b[1;32m~\\anaconda3\\lib\\site-packages\\pandas\\core\\generic.py:5588\u001b[0m, in \u001b[0;36mNDFrame.__setattr__\u001b[1;34m(self, name, value)\u001b[0m\n\u001b[0;32m   5586\u001b[0m \u001b[38;5;28;01mtry\u001b[39;00m:\n\u001b[0;32m   5587\u001b[0m     \u001b[38;5;28mobject\u001b[39m\u001b[38;5;241m.\u001b[39m\u001b[38;5;21m__getattribute__\u001b[39m(\u001b[38;5;28mself\u001b[39m, name)\n\u001b[1;32m-> 5588\u001b[0m     \u001b[38;5;28;01mreturn\u001b[39;00m \u001b[38;5;28;43mobject\u001b[39;49m\u001b[38;5;241;43m.\u001b[39;49m\u001b[38;5;21;43m__setattr__\u001b[39;49m\u001b[43m(\u001b[49m\u001b[38;5;28;43mself\u001b[39;49m\u001b[43m,\u001b[49m\u001b[43m \u001b[49m\u001b[43mname\u001b[49m\u001b[43m,\u001b[49m\u001b[43m \u001b[49m\u001b[43mvalue\u001b[49m\u001b[43m)\u001b[49m\n\u001b[0;32m   5589\u001b[0m \u001b[38;5;28;01mexcept\u001b[39;00m \u001b[38;5;167;01mAttributeError\u001b[39;00m:\n\u001b[0;32m   5590\u001b[0m     \u001b[38;5;28;01mpass\u001b[39;00m\n",
      "File \u001b[1;32m~\\anaconda3\\lib\\site-packages\\pandas\\_libs\\properties.pyx:70\u001b[0m, in \u001b[0;36mpandas._libs.properties.AxisProperty.__set__\u001b[1;34m()\u001b[0m\n",
      "File \u001b[1;32m~\\anaconda3\\lib\\site-packages\\pandas\\core\\generic.py:769\u001b[0m, in \u001b[0;36mNDFrame._set_axis\u001b[1;34m(self, axis, labels)\u001b[0m\n\u001b[0;32m    767\u001b[0m \u001b[38;5;28;01mdef\u001b[39;00m \u001b[38;5;21m_set_axis\u001b[39m(\u001b[38;5;28mself\u001b[39m, axis: \u001b[38;5;28mint\u001b[39m, labels: Index) \u001b[38;5;241m-\u001b[39m\u001b[38;5;241m>\u001b[39m \u001b[38;5;28;01mNone\u001b[39;00m:\n\u001b[0;32m    768\u001b[0m     labels \u001b[38;5;241m=\u001b[39m ensure_index(labels)\n\u001b[1;32m--> 769\u001b[0m     \u001b[38;5;28;43mself\u001b[39;49m\u001b[38;5;241;43m.\u001b[39;49m\u001b[43m_mgr\u001b[49m\u001b[38;5;241;43m.\u001b[39;49m\u001b[43mset_axis\u001b[49m\u001b[43m(\u001b[49m\u001b[43maxis\u001b[49m\u001b[43m,\u001b[49m\u001b[43m \u001b[49m\u001b[43mlabels\u001b[49m\u001b[43m)\u001b[49m\n\u001b[0;32m    770\u001b[0m     \u001b[38;5;28mself\u001b[39m\u001b[38;5;241m.\u001b[39m_clear_item_cache()\n",
      "File \u001b[1;32m~\\anaconda3\\lib\\site-packages\\pandas\\core\\internals\\managers.py:214\u001b[0m, in \u001b[0;36mBaseBlockManager.set_axis\u001b[1;34m(self, axis, new_labels)\u001b[0m\n\u001b[0;32m    212\u001b[0m \u001b[38;5;28;01mdef\u001b[39;00m \u001b[38;5;21mset_axis\u001b[39m(\u001b[38;5;28mself\u001b[39m, axis: \u001b[38;5;28mint\u001b[39m, new_labels: Index) \u001b[38;5;241m-\u001b[39m\u001b[38;5;241m>\u001b[39m \u001b[38;5;28;01mNone\u001b[39;00m:\n\u001b[0;32m    213\u001b[0m     \u001b[38;5;66;03m# Caller is responsible for ensuring we have an Index object.\u001b[39;00m\n\u001b[1;32m--> 214\u001b[0m     \u001b[38;5;28;43mself\u001b[39;49m\u001b[38;5;241;43m.\u001b[39;49m\u001b[43m_validate_set_axis\u001b[49m\u001b[43m(\u001b[49m\u001b[43maxis\u001b[49m\u001b[43m,\u001b[49m\u001b[43m \u001b[49m\u001b[43mnew_labels\u001b[49m\u001b[43m)\u001b[49m\n\u001b[0;32m    215\u001b[0m     \u001b[38;5;28mself\u001b[39m\u001b[38;5;241m.\u001b[39maxes[axis] \u001b[38;5;241m=\u001b[39m new_labels\n",
      "File \u001b[1;32m~\\anaconda3\\lib\\site-packages\\pandas\\core\\internals\\base.py:69\u001b[0m, in \u001b[0;36mDataManager._validate_set_axis\u001b[1;34m(self, axis, new_labels)\u001b[0m\n\u001b[0;32m     66\u001b[0m     \u001b[38;5;28;01mpass\u001b[39;00m\n\u001b[0;32m     68\u001b[0m \u001b[38;5;28;01melif\u001b[39;00m new_len \u001b[38;5;241m!=\u001b[39m old_len:\n\u001b[1;32m---> 69\u001b[0m     \u001b[38;5;28;01mraise\u001b[39;00m \u001b[38;5;167;01mValueError\u001b[39;00m(\n\u001b[0;32m     70\u001b[0m         \u001b[38;5;124mf\u001b[39m\u001b[38;5;124m\"\u001b[39m\u001b[38;5;124mLength mismatch: Expected axis has \u001b[39m\u001b[38;5;132;01m{\u001b[39;00mold_len\u001b[38;5;132;01m}\u001b[39;00m\u001b[38;5;124m elements, new \u001b[39m\u001b[38;5;124m\"\u001b[39m\n\u001b[0;32m     71\u001b[0m         \u001b[38;5;124mf\u001b[39m\u001b[38;5;124m\"\u001b[39m\u001b[38;5;124mvalues have \u001b[39m\u001b[38;5;132;01m{\u001b[39;00mnew_len\u001b[38;5;132;01m}\u001b[39;00m\u001b[38;5;124m elements\u001b[39m\u001b[38;5;124m\"\u001b[39m\n\u001b[0;32m     72\u001b[0m     )\n",
      "\u001b[1;31mValueError\u001b[0m: Length mismatch: Expected axis has 35 elements, new values have 1 elements"
     ]
    }
   ],
   "source": [
    "July 2020 = ['name']"
   ]
  },
  {
   "cell_type": "code",
   "execution_count": 26,
   "id": "c73fa34d",
   "metadata": {},
   "outputs": [],
   "source": [
    "df['Months'] = 'July 2020'"
   ]
  },
  {
   "cell_type": "code",
   "execution_count": 27,
   "id": "af190e68",
   "metadata": {},
   "outputs": [
    {
     "ename": "TypeError",
     "evalue": "'Series' object is not callable",
     "output_type": "error",
     "traceback": [
      "\u001b[1;31m---------------------------------------------------------------------------\u001b[0m",
      "\u001b[1;31mTypeError\u001b[0m                                 Traceback (most recent call last)",
      "Input \u001b[1;32mIn [27]\u001b[0m, in \u001b[0;36m<cell line: 1>\u001b[1;34m()\u001b[0m\n\u001b[1;32m----> 1\u001b[0m \u001b[43mdf\u001b[49m\u001b[38;5;241;43m.\u001b[39;49m\u001b[43mtempmax\u001b[49m\u001b[43m(\u001b[49m\u001b[43m)\u001b[49m\n",
      "\u001b[1;31mTypeError\u001b[0m: 'Series' object is not callable"
     ]
    }
   ],
   "source": [
    "df.tempmax()"
   ]
  },
  {
   "cell_type": "code",
   "execution_count": 23,
   "id": "9a184e4c",
   "metadata": {
    "scrolled": true
   },
   "outputs": [
    {
     "data": {
      "text/html": [
       "<div>\n",
       "<style scoped>\n",
       "    .dataframe tbody tr th:only-of-type {\n",
       "        vertical-align: middle;\n",
       "    }\n",
       "\n",
       "    .dataframe tbody tr th {\n",
       "        vertical-align: top;\n",
       "    }\n",
       "\n",
       "    .dataframe thead th {\n",
       "        text-align: right;\n",
       "    }\n",
       "</style>\n",
       "<table border=\"1\" class=\"dataframe\">\n",
       "  <thead>\n",
       "    <tr style=\"text-align: right;\">\n",
       "      <th></th>\n",
       "      <th>name</th>\n",
       "      <th>datetime</th>\n",
       "      <th>tempmax</th>\n",
       "      <th>tempmin</th>\n",
       "      <th>temp</th>\n",
       "      <th>feelslikemax</th>\n",
       "      <th>feelslikemin</th>\n",
       "      <th>feelslike</th>\n",
       "      <th>dew</th>\n",
       "      <th>humidity</th>\n",
       "      <th>...</th>\n",
       "      <th>severerisk</th>\n",
       "      <th>sunrise</th>\n",
       "      <th>sunset</th>\n",
       "      <th>moonphase</th>\n",
       "      <th>conditions</th>\n",
       "      <th>description</th>\n",
       "      <th>icon</th>\n",
       "      <th>stations</th>\n",
       "      <th>New Column</th>\n",
       "      <th>Months</th>\n",
       "    </tr>\n",
       "  </thead>\n",
       "  <tbody>\n",
       "    <tr>\n",
       "      <th>0</th>\n",
       "      <td>louisville, kentucky</td>\n",
       "      <td>2020-07-12</td>\n",
       "      <td>83.0</td>\n",
       "      <td>66.3</td>\n",
       "      <td>74.8</td>\n",
       "      <td>86.3</td>\n",
       "      <td>66.3</td>\n",
       "      <td>75.5</td>\n",
       "      <td>65.3</td>\n",
       "      <td>73.6</td>\n",
       "      <td>...</td>\n",
       "      <td>NaN</td>\n",
       "      <td>2020-07-12T06:30:12</td>\n",
       "      <td>2020-07-12T21:07:07</td>\n",
       "      <td>0.73</td>\n",
       "      <td>Rain, Partially cloudy</td>\n",
       "      <td>Partly cloudy throughout the day with a chance...</td>\n",
       "      <td>rain</td>\n",
       "      <td>KFTK,KLOU,E0797,AU953,KSDF,72423093821,7242401...</td>\n",
       "      <td>0</td>\n",
       "      <td>July 2020</td>\n",
       "    </tr>\n",
       "    <tr>\n",
       "      <th>1</th>\n",
       "      <td>louisville, kentucky</td>\n",
       "      <td>2020-07-13</td>\n",
       "      <td>85.0</td>\n",
       "      <td>68.0</td>\n",
       "      <td>77.0</td>\n",
       "      <td>84.9</td>\n",
       "      <td>68.0</td>\n",
       "      <td>77.1</td>\n",
       "      <td>62.5</td>\n",
       "      <td>63.1</td>\n",
       "      <td>...</td>\n",
       "      <td>NaN</td>\n",
       "      <td>2020-07-13T06:30:53</td>\n",
       "      <td>2020-07-13T21:06:38</td>\n",
       "      <td>0.78</td>\n",
       "      <td>Clear</td>\n",
       "      <td>Clear conditions throughout the day.</td>\n",
       "      <td>clear-day</td>\n",
       "      <td>KFTK,KLOU,AU953,KSDF,72423093821,72424013807,7...</td>\n",
       "      <td>0</td>\n",
       "      <td>July 2020</td>\n",
       "    </tr>\n",
       "    <tr>\n",
       "      <th>2</th>\n",
       "      <td>louisville, kentucky</td>\n",
       "      <td>2020-07-14</td>\n",
       "      <td>89.4</td>\n",
       "      <td>66.1</td>\n",
       "      <td>78.3</td>\n",
       "      <td>89.9</td>\n",
       "      <td>66.1</td>\n",
       "      <td>78.4</td>\n",
       "      <td>61.8</td>\n",
       "      <td>60.0</td>\n",
       "      <td>...</td>\n",
       "      <td>NaN</td>\n",
       "      <td>2020-07-14T06:31:35</td>\n",
       "      <td>2020-07-14T21:06:08</td>\n",
       "      <td>0.83</td>\n",
       "      <td>Clear</td>\n",
       "      <td>Clear conditions throughout the day.</td>\n",
       "      <td>clear-day</td>\n",
       "      <td>KFTK,KLOU,AU953,KSDF,72423093821,72424013807,7...</td>\n",
       "      <td>0</td>\n",
       "      <td>July 2020</td>\n",
       "    </tr>\n",
       "    <tr>\n",
       "      <th>3</th>\n",
       "      <td>louisville, kentucky</td>\n",
       "      <td>2020-07-15</td>\n",
       "      <td>92.0</td>\n",
       "      <td>69.1</td>\n",
       "      <td>81.3</td>\n",
       "      <td>93.9</td>\n",
       "      <td>69.1</td>\n",
       "      <td>82.3</td>\n",
       "      <td>64.4</td>\n",
       "      <td>58.7</td>\n",
       "      <td>...</td>\n",
       "      <td>NaN</td>\n",
       "      <td>2020-07-15T06:32:18</td>\n",
       "      <td>2020-07-15T21:05:36</td>\n",
       "      <td>0.87</td>\n",
       "      <td>Partially cloudy</td>\n",
       "      <td>Becoming cloudy in the afternoon.</td>\n",
       "      <td>partly-cloudy-day</td>\n",
       "      <td>KFTK,KLOU,AU953,KSDF,72423093821,72424013807,7...</td>\n",
       "      <td>0</td>\n",
       "      <td>July 2020</td>\n",
       "    </tr>\n",
       "    <tr>\n",
       "      <th>4</th>\n",
       "      <td>louisville, kentucky</td>\n",
       "      <td>2020-07-16</td>\n",
       "      <td>88.5</td>\n",
       "      <td>76.9</td>\n",
       "      <td>82.3</td>\n",
       "      <td>96.5</td>\n",
       "      <td>76.9</td>\n",
       "      <td>85.6</td>\n",
       "      <td>70.6</td>\n",
       "      <td>68.1</td>\n",
       "      <td>...</td>\n",
       "      <td>NaN</td>\n",
       "      <td>2020-07-16T06:33:02</td>\n",
       "      <td>2020-07-16T21:05:02</td>\n",
       "      <td>0.91</td>\n",
       "      <td>Rain, Partially cloudy</td>\n",
       "      <td>Partly cloudy throughout the day with early mo...</td>\n",
       "      <td>rain</td>\n",
       "      <td>KFTK,KLOU,AU953,KSDF,72423093821,72424013807,7...</td>\n",
       "      <td>0</td>\n",
       "      <td>July 2020</td>\n",
       "    </tr>\n",
       "  </tbody>\n",
       "</table>\n",
       "<p>5 rows × 35 columns</p>\n",
       "</div>"
      ],
      "text/plain": [
       "                   name    datetime  tempmax  tempmin  temp  feelslikemax  \\\n",
       "0  louisville, kentucky  2020-07-12     83.0     66.3  74.8          86.3   \n",
       "1  louisville, kentucky  2020-07-13     85.0     68.0  77.0          84.9   \n",
       "2  louisville, kentucky  2020-07-14     89.4     66.1  78.3          89.9   \n",
       "3  louisville, kentucky  2020-07-15     92.0     69.1  81.3          93.9   \n",
       "4  louisville, kentucky  2020-07-16     88.5     76.9  82.3          96.5   \n",
       "\n",
       "   feelslikemin  feelslike   dew  humidity  ...  severerisk  \\\n",
       "0          66.3       75.5  65.3      73.6  ...         NaN   \n",
       "1          68.0       77.1  62.5      63.1  ...         NaN   \n",
       "2          66.1       78.4  61.8      60.0  ...         NaN   \n",
       "3          69.1       82.3  64.4      58.7  ...         NaN   \n",
       "4          76.9       85.6  70.6      68.1  ...         NaN   \n",
       "\n",
       "               sunrise               sunset moonphase              conditions  \\\n",
       "0  2020-07-12T06:30:12  2020-07-12T21:07:07      0.73  Rain, Partially cloudy   \n",
       "1  2020-07-13T06:30:53  2020-07-13T21:06:38      0.78                   Clear   \n",
       "2  2020-07-14T06:31:35  2020-07-14T21:06:08      0.83                   Clear   \n",
       "3  2020-07-15T06:32:18  2020-07-15T21:05:36      0.87        Partially cloudy   \n",
       "4  2020-07-16T06:33:02  2020-07-16T21:05:02      0.91  Rain, Partially cloudy   \n",
       "\n",
       "                                         description               icon  \\\n",
       "0  Partly cloudy throughout the day with a chance...               rain   \n",
       "1               Clear conditions throughout the day.          clear-day   \n",
       "2               Clear conditions throughout the day.          clear-day   \n",
       "3                  Becoming cloudy in the afternoon.  partly-cloudy-day   \n",
       "4  Partly cloudy throughout the day with early mo...               rain   \n",
       "\n",
       "                                            stations  New Column     Months  \n",
       "0  KFTK,KLOU,E0797,AU953,KSDF,72423093821,7242401...           0  July 2020  \n",
       "1  KFTK,KLOU,AU953,KSDF,72423093821,72424013807,7...           0  July 2020  \n",
       "2  KFTK,KLOU,AU953,KSDF,72423093821,72424013807,7...           0  July 2020  \n",
       "3  KFTK,KLOU,AU953,KSDF,72423093821,72424013807,7...           0  July 2020  \n",
       "4  KFTK,KLOU,AU953,KSDF,72423093821,72424013807,7...           0  July 2020  \n",
       "\n",
       "[5 rows x 35 columns]"
      ]
     },
     "execution_count": 23,
     "metadata": {},
     "output_type": "execute_result"
    }
   ],
   "source": [
    "df.head()"
   ]
  },
  {
   "cell_type": "code",
   "execution_count": 7,
   "id": "10e4a6f1",
   "metadata": {},
   "outputs": [
    {
     "data": {
      "image/png": "[encoded data removed]",
      "text/plain": [
       "<Figure size 432x288 with 1 Axes>"
      ]
     },
     "metadata": {
      "needs_background": "light"
     },
     "output_type": "display_data"
    }
   ],
   "source": [
    "sns.lineplot(x=df.temp, y=df.tempmax);"
   ]
  },
  {
   "cell_type": "code",
   "execution_count": 30,
   "id": "f2b775d2",
   "metadata": {},
   "outputs": [
    {
     "data": {
      "text/plain": [
       "<AxesSubplot:xlabel='tempmin', ylabel='name'>"
      ]
     },
     "execution_count": 30,
     "metadata": {},
     "output_type": "execute_result"
    },
    {
     "data": {
      "image/png": "[encoded data removed]",
      "text/plain": [
       "<Figure size 432x288 with 1 Axes>"
      ]
     },
     "metadata": {
      "needs_background": "light"
     },
     "output_type": "display_data"
    }
   ],
   "source": [
    "sns.scatterplot(x=df['tempmin'],\n",
    "                y=df['name'])"
   ]
  },
  {
   "cell_type": "code",
   "execution_count": 9,
   "id": "3ff801ab",
   "metadata": {},
   "outputs": [],
   "source": [
    "def avgmaxtemp():\n",
    "    ''' adds every value in maxtemp to create a sum\n",
    "divides the sum by the number of values in maxtemp\n",
    "This will provide the average of maxtemp.\n",
    "'''\n",
    "    print(sum(df.tempmax)/len(df.tempmax))"
   ]
  },
  {
   "cell_type": "code",
   "execution_count": 10,
   "id": "508a2478",
   "metadata": {},
   "outputs": [
    {
     "name": "stdout",
     "output_type": "stream",
     "text": [
      "What is your name?: \n",
      "Noah\n"
     ]
    }
   ],
   "source": [
    "print(\"What is your name?: \")\n",
    "user = input()"
   ]
  },
  {
   "cell_type": "code",
   "execution_count": 11,
   "id": "163cfd6d",
   "metadata": {},
   "outputs": [
    {
     "name": "stdout",
     "output_type": "stream",
     "text": [
      "Hello, Noah\n"
     ]
    }
   ],
   "source": [
    "print(\"Hello, \" + (user))"
   ]
  },
  {
   "cell_type": "code",
   "execution_count": 12,
   "id": "3e41b9ec",
   "metadata": {},
   "outputs": [],
   "source": [
    "def free_tip():\n",
    "    '''This function will run at the start of the program and tell you to how to pull up the available commands'''\n",
    "    print('To see what questions you can ask, type \"Help\"\\\n",
    "          If you do not need help then type \"tip\" to recieve another tip ')"
   ]
  },
  {
   "cell_type": "code",
   "execution_count": 13,
   "id": "e0f6712e",
   "metadata": {},
   "outputs": [
    {
     "name": "stdout",
     "output_type": "stream",
     "text": [
      "To see what questions you can ask, type \"Help\"          If you do not need help then type \"tip\" to recieve another tip \n"
     ]
    }
   ],
   "source": [
    "free_tip()"
   ]
  },
  {
   "cell_type": "code",
   "execution_count": 14,
   "id": "7278e4c1",
   "metadata": {},
   "outputs": [
    {
     "ename": "SyntaxError",
     "evalue": "invalid syntax (2010339728.py, line 1)",
     "output_type": "error",
     "traceback": [
      "\u001b[1;36m  Input \u001b[1;32mIn [14]\u001b[1;36m\u001b[0m\n\u001b[1;33m    def() tip:\u001b[0m\n\u001b[1;37m       ^\u001b[0m\n\u001b[1;31mSyntaxError\u001b[0m\u001b[1;31m:\u001b[0m invalid syntax\n"
     ]
    }
   ],
   "source": [
    "def() tip:\n",
    "    '''put a command here that pulls up a dictionary or list dates, avg temp, and other stuff like that.\n",
    "    Have it tell the user what commands it can do\n",
    "    Then with user input make it pull from there and print stuff\n",
    "    for ex- if you type avgtemp have it tell you the avg temp\n",
    "    \n",
    "    this will be a lot lol'''"
   ]
  },
  {
   "cell_type": "code",
   "execution_count": null,
   "id": "46cc8e0d",
   "metadata": {},
   "outputs": [],
   "source": [
    "'''def program():\n",
    "    print(\"What would you like to do?\")\n",
    "    if input():\n",
    "        print(\"I'm a failure\")\n",
    "    else:\n",
    "        print(\"That is invalid\")'''"
   ]
  },
  {
   "cell_type": "code",
   "execution_count": null,
   "id": "183db30b",
   "metadata": {},
   "outputs": [],
   "source": [
    "program()"
   ]
  },
  {
   "cell_type": "code",
   "execution_count": null,
   "id": "a3b7d9a8",
   "metadata": {},
   "outputs": [],
   "source": [
    "def Help():\n",
    "    if input() = (\"Help\")\n",
    "    print(\"These are the available commands\")"
   ]
  },
  {
   "cell_type": "code",
   "execution_count": null,
   "id": "3cfa3fe2",
   "metadata": {},
   "outputs": [],
   "source": [
    "'''if \"CMDS\":\n",
    "    print(\"Typing deez nuts will show you my balls\")'''"
   ]
  },
  {
   "cell_type": "code",
   "execution_count": 16,
   "id": "118c90ca",
   "metadata": {},
   "outputs": [
    {
     "ename": "TypeError",
     "evalue": "'Series' object is not callable",
     "output_type": "error",
     "traceback": [
      "\u001b[1;31m---------------------------------------------------------------------------\u001b[0m",
      "\u001b[1;31mTypeError\u001b[0m                                 Traceback (most recent call last)",
      "Input \u001b[1;32mIn [16]\u001b[0m, in \u001b[0;36m<cell line: 1>\u001b[1;34m()\u001b[0m\n\u001b[1;32m----> 1\u001b[0m \u001b[43mdf\u001b[49m\u001b[38;5;241;43m.\u001b[39;49m\u001b[43mdatetime\u001b[49m\u001b[43m(\u001b[49m\u001b[38;5;241;43m30\u001b[39;49m\u001b[43m)\u001b[49m\n",
      "\u001b[1;31mTypeError\u001b[0m: 'Series' object is not callable"
     ]
    }
   ],
   "source": []
  },
  {
   "cell_type": "code",
   "execution_count": null,
   "id": "6d58ae6d",
   "metadata": {},
   "outputs": [],
   "source": []
  }
 ],
 "metadata": {
  "kernelspec": {
   "display_name": "Python 3 (ipykernel)",
   "language": "python",
   "name": "python3"
  },
  "language_info": {
   "codemirror_mode": {
    "name": "ipython",
    "version": 3
   },
   "file_extension": ".py",
   "mimetype": "text/x-python",
   "name": "python",
   "nbconvert_exporter": "python",
   "pygments_lexer": "ipython3",
   "version": "3.9.12"
  }
 },
 "nbformat": 4,
 "nbformat_minor": 5
}
